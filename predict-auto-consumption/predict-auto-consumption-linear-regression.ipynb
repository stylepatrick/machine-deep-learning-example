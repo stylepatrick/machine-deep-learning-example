{
 "cells": [
  {
   "cell_type": "code",
   "execution_count": 1,
   "id": "79d9482d",
   "metadata": {},
   "outputs": [
    {
     "name": "stdout",
     "output_type": "stream",
     "text": [
      "2.352145833333333\n"
     ]
    }
   ],
   "source": [
    "def mpg_to_l_per_100km(mpg):\n",
    "    LITERS_PER_GALLON = 3.785411784\n",
    "    KILOMETERS_PER_MILES = 1.609344\n",
    "\n",
    "    return (100 * LITERS_PER_GALLON) / (KILOMETERS_PER_MILES * mpg)\n",
    "\n",
    "print(mpg_to_l_per_100km(100))"
   ]
  },
  {
   "cell_type": "code",
   "execution_count": 2,
   "id": "2bf32b67",
   "metadata": {},
   "outputs": [],
   "source": [
    "import pandas as pd"
   ]
  },
  {
   "cell_type": "code",
   "execution_count": 3,
   "id": "68388752",
   "metadata": {},
   "outputs": [],
   "source": [
    "df = pd.read_csv(\"mpg-dataset.csv\")"
   ]
  },
  {
   "cell_type": "code",
   "execution_count": 6,
   "id": "e2cadec1",
   "metadata": {},
   "outputs": [
    {
     "name": "stdout",
     "output_type": "stream",
     "text": [
      "      mpg  cylinders  displacement  horsepower  weight  acceleration  \\\n",
      "0    18.0          8         307.0         130    3504          12.0   \n",
      "1    15.0          8         350.0         165    3693          11.5   \n",
      "2    18.0          8         318.0         150    3436          11.0   \n",
      "3    16.0          8         304.0         150    3433          12.0   \n",
      "4    17.0          8         302.0         140    3449          10.5   \n",
      "..    ...        ...           ...         ...     ...           ...   \n",
      "387  27.0          4         140.0          86    2790          15.6   \n",
      "388  44.0          4          97.0          52    2130          24.6   \n",
      "389  32.0          4         135.0          84    2295          11.6   \n",
      "390  28.0          4         120.0          79    2625          18.6   \n",
      "391  31.0          4         119.0          82    2720          19.4   \n",
      "\n",
      "     model_year  origin                       name  \n",
      "0            70       1  chevrolet chevelle malibu  \n",
      "1            70       1          buick skylark 320  \n",
      "2            70       1         plymouth satellite  \n",
      "3            70       1              amc rebel sst  \n",
      "4            70       1                ford torino  \n",
      "..          ...     ...                        ...  \n",
      "387          82       1            ford mustang gl  \n",
      "388          82       2                  vw pickup  \n",
      "389          82       1              dodge rampage  \n",
      "390          82       1                ford ranger  \n",
      "391          82       1                 chevy s-10  \n",
      "\n",
      "[392 rows x 9 columns]\n"
     ]
    }
   ],
   "source": [
    "print(df)"
   ]
  },
  {
   "cell_type": "code",
   "execution_count": 7,
   "id": "0e6b9095",
   "metadata": {},
   "outputs": [],
   "source": [
    "x = df[[\"cylinders\", \"horsepower\", \"weight\"]]"
   ]
  },
  {
   "cell_type": "code",
   "execution_count": 8,
   "id": "2bd88b73",
   "metadata": {},
   "outputs": [
    {
     "name": "stdout",
     "output_type": "stream",
     "text": [
      "     cylinders  horsepower  weight\n",
      "0            8         130    3504\n",
      "1            8         165    3693\n",
      "2            8         150    3436\n",
      "3            8         150    3433\n",
      "4            8         140    3449\n",
      "..         ...         ...     ...\n",
      "387          4          86    2790\n",
      "388          4          52    2130\n",
      "389          4          84    2295\n",
      "390          4          79    2625\n",
      "391          4          82    2720\n",
      "\n",
      "[392 rows x 3 columns]\n"
     ]
    }
   ],
   "source": [
    "print(x)"
   ]
  },
  {
   "cell_type": "code",
   "execution_count": 24,
   "id": "aa09a83a",
   "metadata": {},
   "outputs": [],
   "source": [
    "y = mpg_to_l_per_100km(df[\"mpg\"])"
   ]
  },
  {
   "cell_type": "code",
   "execution_count": 18,
   "id": "082abc8a",
   "metadata": {},
   "outputs": [],
   "source": [
    "y = df[\"mpg\"]"
   ]
  },
  {
   "cell_type": "code",
   "execution_count": 10,
   "id": "5944c1bd",
   "metadata": {},
   "outputs": [
    {
     "name": "stdout",
     "output_type": "stream",
     "text": [
      "0      13.067477\n",
      "1      15.680972\n",
      "2      13.067477\n",
      "3      14.700911\n",
      "4      13.836152\n",
      "         ...    \n",
      "387     8.711651\n",
      "388     5.345786\n",
      "389     7.350456\n",
      "390     8.400521\n",
      "391     7.587567\n",
      "Name: mpg, Length: 392, dtype: float64\n"
     ]
    }
   ],
   "source": [
    "print(y)"
   ]
  },
  {
   "cell_type": "code",
   "execution_count": 29,
   "id": "8f0c3368",
   "metadata": {},
   "outputs": [
    {
     "data": {
      "text/plain": [
       "LinearRegression()"
      ]
     },
     "execution_count": 29,
     "metadata": {},
     "output_type": "execute_result"
    }
   ],
   "source": [
    "from sklearn.linear_model import LinearRegression\n",
    "\n",
    "model = LinearRegression()\n",
    "model.fit(x, y)"
   ]
  },
  {
   "cell_type": "code",
   "execution_count": 32,
   "id": "2c954236",
   "metadata": {},
   "outputs": [
    {
     "name": "stdout",
     "output_type": "stream",
     "text": [
      "[0.2757425  0.03284566 0.00229432]\n",
      "-0.5232093219825789\n"
     ]
    }
   ],
   "source": [
    "print(model.coef_)\n",
    "print(model.intercept_)"
   ]
  },
  {
   "cell_type": "code",
   "execution_count": 33,
   "id": "fed42eb0",
   "metadata": {},
   "outputs": [
    {
     "name": "stderr",
     "output_type": "stream",
     "text": [
      "C:\\Users\\patrick.oberkofler\\Anaconda3\\lib\\site-packages\\sklearn\\base.py:450: UserWarning: X does not have valid feature names, but LinearRegression was fitted with feature names\n",
      "  warnings.warn(\n"
     ]
    },
    {
     "data": {
      "text/plain": [
       "array([13.98766161])"
      ]
     },
     "execution_count": 33,
     "metadata": {},
     "output_type": "execute_result"
    }
   ],
   "source": [
    "model.predict([[8, 200, 2500]])"
   ]
  }
 ],
 "metadata": {
  "kernelspec": {
   "display_name": "Python 3 (ipykernel)",
   "language": "python",
   "name": "python3"
  },
  "language_info": {
   "codemirror_mode": {
    "name": "ipython",
    "version": 3
   },
   "file_extension": ".py",
   "mimetype": "text/x-python",
   "name": "python",
   "nbconvert_exporter": "python",
   "pygments_lexer": "ipython3",
   "version": "3.9.13"
  }
 },
 "nbformat": 4,
 "nbformat_minor": 5
}

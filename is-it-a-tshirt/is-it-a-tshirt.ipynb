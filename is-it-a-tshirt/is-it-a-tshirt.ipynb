{
 "cells": [
  {
   "cell_type": "code",
   "execution_count": 29,
   "id": "48f445f7",
   "metadata": {},
   "outputs": [],
   "source": [
    "# FashionMNIST: https://github.com/zalandoresearch/fashion-mnist\n",
    "import gzip\n",
    "import numpy as np\n",
    "\n",
    "def open_images(filename):\n",
    "    with gzip.open(filename, \"rb\") as file:\n",
    "        data = file.read()\n",
    "        return np.frombuffer(data, dtype=np.uint8, offset=16)\\\n",
    "            .reshape(-1, 28, 28)\\\n",
    "            .astype(np.float32)\n",
    "\n",
    "\n",
    "def open_labels(filename):\n",
    "    with gzip.open(filename, \"rb\") as file:\n",
    "        data = file.read()\n",
    "        return np.frombuffer(data, dtype=np.uint8, offset=8)"
   ]
  },
  {
   "cell_type": "code",
   "execution_count": 30,
   "id": "95c32e80",
   "metadata": {},
   "outputs": [],
   "source": [
    "X_train = open_images(\"train-images-idx3-ubyte.gz\")"
   ]
  },
  {
   "cell_type": "code",
   "execution_count": 40,
   "id": "eb8e67bf",
   "metadata": {},
   "outputs": [],
   "source": [
    "x_test = open_images(\"t10k-images-idx3-ubyte.gz\")"
   ]
  },
  {
   "cell_type": "code",
   "execution_count": 31,
   "id": "bc3df6ce",
   "metadata": {},
   "outputs": [],
   "source": [
    "x = X_train.reshape(60000, 784)"
   ]
  },
  {
   "cell_type": "code",
   "execution_count": 32,
   "id": "70f3f4c0",
   "metadata": {},
   "outputs": [
    {
     "data": {
      "image/png": "[encoded data removed]",
      "text/plain": [
       "<Figure size 640x480 with 1 Axes>"
      ]
     },
     "metadata": {},
     "output_type": "display_data"
    }
   ],
   "source": [
    "%matplotlib inline\n",
    "import matplotlib.pyplot as plt\n",
    "\n",
    "plt.imshow(X_train[1], cmap=\"gray_r\")\n",
    "plt.show()"
   ]
  },
  {
   "cell_type": "code",
   "execution_count": 33,
   "id": "d4b95104",
   "metadata": {},
   "outputs": [],
   "source": [
    "y_train = open_labels(\"train-labels-idx1-ubyte.gz\")"
   ]
  },
  {
   "cell_type": "code",
   "execution_count": 41,
   "id": "73c8f2e0",
   "metadata": {},
   "outputs": [],
   "source": [
    "y_test = open_labels(\"t10k-labels-idx1-ubyte.gz\")"
   ]
  },
  {
   "cell_type": "code",
   "execution_count": 34,
   "id": "d68f26ba",
   "metadata": {},
   "outputs": [],
   "source": [
    "y = y_train == 0 # if 0 than t-shirt"
   ]
  },
  {
   "cell_type": "code",
   "execution_count": 35,
   "id": "124cf4c9",
   "metadata": {},
   "outputs": [],
   "source": [
    "from keras.models import Sequential\n",
    "from keras.layers import Dense"
   ]
  },
  {
   "cell_type": "code",
   "execution_count": 36,
   "id": "995261cd",
   "metadata": {},
   "outputs": [],
   "source": [
    "model = Sequential()"
   ]
  },
  {
   "cell_type": "code",
   "execution_count": 37,
   "id": "a6aad518",
   "metadata": {},
   "outputs": [],
   "source": [
    "model.add(Dense(100, activation=\"sigmoid\", input_shape=(784,)))\n",
    "model.add(Dense(1, activation=\"sigmoid\"))\n",
    "model.compile(optimizer=\"sgd\", loss=\"binary_crossentropy\", metrics=[\"accuracy\"])"
   ]
  },
  {
   "cell_type": "code",
   "execution_count": 38,
   "id": "0be4445a",
   "metadata": {},
   "outputs": [
    {
     "name": "stdout",
     "output_type": "stream",
     "text": [
      "Epoch 1/10\n",
      "60/60 [==============================] - 1s 4ms/step - loss: 0.2261 - accuracy: 0.9134\n",
      "Epoch 2/10\n",
      "60/60 [==============================] - 0s 4ms/step - loss: 0.1635 - accuracy: 0.9392\n",
      "Epoch 3/10\n",
      "60/60 [==============================] - 0s 4ms/step - loss: 0.1463 - accuracy: 0.9471\n",
      "Epoch 4/10\n",
      "60/60 [==============================] - 0s 5ms/step - loss: 0.1362 - accuracy: 0.9512\n",
      "Epoch 5/10\n",
      "60/60 [==============================] - 0s 5ms/step - loss: 0.1300 - accuracy: 0.9532\n",
      "Epoch 6/10\n",
      "60/60 [==============================] - 0s 5ms/step - loss: 0.1255 - accuracy: 0.9536\n",
      "Epoch 7/10\n",
      "60/60 [==============================] - 0s 5ms/step - loss: 0.1216 - accuracy: 0.9541\n",
      "Epoch 8/10\n",
      "60/60 [==============================] - 0s 4ms/step - loss: 0.1187 - accuracy: 0.9549\n",
      "Epoch 9/10\n",
      "60/60 [==============================] - 0s 4ms/step - loss: 0.1166 - accuracy: 0.9549\n",
      "Epoch 10/10\n",
      "60/60 [==============================] - 0s 4ms/step - loss: 0.1150 - accuracy: 0.9552\n"
     ]
    },
    {
     "data": {
      "text/plain": [
       "<keras.callbacks.History at 0x280269d2880>"
      ]
     },
     "execution_count": 38,
     "metadata": {},
     "output_type": "execute_result"
    }
   ],
   "source": [
    "model.fit(x, y, epochs=10, batch_size=1000)"
   ]
  },
  {
   "cell_type": "code",
   "execution_count": 39,
   "id": "bc1bfa57",
   "metadata": {},
   "outputs": [
    {
     "name": "stdout",
     "output_type": "stream",
     "text": [
      "1875/1875 [==============================] - 2s 1ms/step - loss: 0.1135 - accuracy: 0.9561\n"
     ]
    },
    {
     "data": {
      "text/plain": [
       "[0.11350804567337036, 0.9560999870300293]"
      ]
     },
     "execution_count": 39,
     "metadata": {},
     "output_type": "execute_result"
    }
   ],
   "source": [
    "model.evaluate(x, y) # Gives accuracy from train data"
   ]
  },
  {
   "cell_type": "code",
   "execution_count": 52,
   "id": "8ce6475e",
   "metadata": {},
   "outputs": [
    {
     "name": "stdout",
     "output_type": "stream",
     "text": [
      "313/313 [==============================] - 0s 1ms/step - loss: 0.1191 - accuracy: 0.9527\n"
     ]
    },
    {
     "data": {
      "text/plain": [
       "[0.11908546090126038, 0.9527000188827515]"
      ]
     },
     "execution_count": 52,
     "metadata": {},
     "output_type": "execute_result"
    }
   ],
   "source": [
    "z = y_test == 0\n",
    "model.evaluate(x_test.reshape(-1, 784), z) # Gives accuracy from test data"
   ]
  },
  {
   "cell_type": "code",
   "execution_count": 53,
   "id": "e50761c9",
   "metadata": {},
   "outputs": [
    {
     "data": {
      "text/plain": [
       "(1, 784)"
      ]
     },
     "execution_count": 53,
     "metadata": {},
     "output_type": "execute_result"
    }
   ],
   "source": [
    "p = x[1].reshape(1, 784)\n",
    "p.shape"
   ]
  },
  {
   "cell_type": "code",
   "execution_count": 54,
   "id": "f3046873",
   "metadata": {},
   "outputs": [
    {
     "name": "stdout",
     "output_type": "stream",
     "text": [
      "1/1 [==============================] - 0s 35ms/step\n"
     ]
    },
    {
     "data": {
      "text/plain": [
       "array([[0.85744554]], dtype=float32)"
      ]
     },
     "execution_count": 54,
     "metadata": {},
     "output_type": "execute_result"
    }
   ],
   "source": [
    "model.predict(p)"
   ]
  },
  {
   "cell_type": "code",
   "execution_count": 13,
   "id": "bdecec96",
   "metadata": {},
   "outputs": [
    {
     "name": "stdout",
     "output_type": "stream",
     "text": [
      "1875/1875 [==============================] - 2s 836us/step\n"
     ]
    }
   ],
   "source": [
    "y_pred = model.predict(x)"
   ]
  },
  {
   "cell_type": "code",
   "execution_count": 17,
   "id": "ff5ad6be",
   "metadata": {},
   "outputs": [],
   "source": [
    "y_pred = np.round(y_pred).reshape(-1)"
   ]
  },
  {
   "cell_type": "code",
   "execution_count": 18,
   "id": "b08584b8",
   "metadata": {},
   "outputs": [
    {
     "data": {
      "text/plain": [
       "0.9536166666666667"
      ]
     },
     "execution_count": 18,
     "metadata": {},
     "output_type": "execute_result"
    }
   ],
   "source": [
    "np.mean(y_pred == y) # Gives accuracy -> manually calculated"
   ]
  }
 ],
 "metadata": {
  "kernelspec": {
   "display_name": "Python 3 (ipykernel)",
   "language": "python",
   "name": "python3"
  },
  "language_info": {
   "codemirror_mode": {
    "name": "ipython",
    "version": 3
   },
   "file_extension": ".py",
   "mimetype": "text/x-python",
   "name": "python",
   "nbconvert_exporter": "python",
   "pygments_lexer": "ipython3",
   "version": "3.9.13"
  }
 },
 "nbformat": 4,
 "nbformat_minor": 5
}

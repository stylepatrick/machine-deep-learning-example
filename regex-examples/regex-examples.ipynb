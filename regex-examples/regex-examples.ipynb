{
 "cells": [
  {
   "cell_type": "code",
   "execution_count": 152,
   "metadata": {
    "collapsed": true,
    "ExecuteTime": {
     "start_time": "2023-04-15T12:47:55.881356Z",
     "end_time": "2023-04-15T12:47:55.899095Z"
    }
   },
   "outputs": [],
   "source": [
    "import re\n",
    "## [] area of chars\n",
    "## + repeat area more times, required to match at least one time\n",
    "## ? optional\n",
    "## {2} repeat two times {2,4} repeat 2-4 times\n",
    "## . must be escaped with \\.\n",
    "re1 = re.compile(\"[0-9]{2}\\.[0-9]{2}\\.[0-9]{4}\")\n",
    "re2 = re.compile(\"[0-9]{4}/[0-9]{2}/[0-9]{2}\")\n",
    "re3 = re.compile(\"[0-9]{2}/[0-9]{4}\")\n",
    "\n",
    "sentences = [\n",
    "    \"Am 05.06.2018 findet ein cooles Event statt\",\n",
    "    \"Please follow our invitation and visit us on 2018/14/05\",\n",
    "    \"Im Monat 05/2018 ist oft gutes Wetter\",\n",
    "    \"Der Lottogewinn war 10.000.000€ groß. Er wurde am 04.06.2018 ausgeschüttet\",\n",
    "    \"Im Monat 01/2018 war in Sofia heftiger Smog\",\n",
    "    \"Dein Flug in den Urlaub geht am 06.07.2018\",\n",
    "]"
   ]
  },
  {
   "cell_type": "code",
   "execution_count": 153,
   "outputs": [
    {
     "name": "stdout",
     "output_type": "stream",
     "text": [
      "05.06.2018\n",
      "14.05.2018\n",
      "01.05.2018\n",
      "04.06.2018\n",
      "01.01.2018\n",
      "06.07.2018\n"
     ]
    }
   ],
   "source": [
    "dates = []\n",
    "for sentence in sentences:\n",
    "\n",
    "    match1 = re1.search(sentence)\n",
    "    match2 = re2.search(sentence)\n",
    "    match3 = re3.search(sentence)\n",
    "\n",
    "    if match1:\n",
    "        dates.append(re1.findall(sentence)[0])\n",
    "    elif match2:\n",
    "        d = re2.findall(sentence)[0].split(\"/\")\n",
    "        dates.append(d[1] + \".\" + d[2] + \".\" + d[0])\n",
    "    elif match3:\n",
    "        d = re3.findall(sentence)[0].split(\"/\")\n",
    "        dates.append(\"01.\" + d[0] + \".\" + d[1])\n",
    "\n",
    "for date in dates:\n",
    "    print(date)"
   ],
   "metadata": {
    "collapsed": false,
    "ExecuteTime": {
     "start_time": "2023-04-15T12:47:57.616711Z",
     "end_time": "2023-04-15T12:47:57.636827Z"
    }
   }
  },
  {
   "cell_type": "code",
   "execution_count": 154,
   "outputs": [
    {
     "name": "stdout",
     "output_type": "stream",
     "text": [
      "05.06.2018\n",
      "14.05.2018\n",
      "01.05.2018\n",
      "04.06.2018\n",
      "01.01.2018\n",
      "06.07.2018\n"
     ]
    }
   ],
   "source": [
    "from datetime import datetime\n",
    "\n",
    "dates = []\n",
    "for sentence in sentences:\n",
    "\n",
    "    match1 = re1.search(sentence)\n",
    "    match2 = re2.search(sentence)\n",
    "    match3 = re3.search(sentence)\n",
    "\n",
    "    if match1:\n",
    "        dates.append(datetime.strptime(match1[0], \"%d.%m.%Y\"))\n",
    "    elif match2:\n",
    "        dates.append(datetime.strptime(match2[0], \"%Y/%d/%m\"))\n",
    "    elif match3:\n",
    "        dates.append(datetime.strptime(match3[0], \"%m/%Y\"))\n",
    "\n",
    "for d in dates:\n",
    "    print(d.strftime(\"%d.%m.%Y\"))"
   ],
   "metadata": {
    "collapsed": false,
    "ExecuteTime": {
     "start_time": "2023-04-15T12:47:59.345536Z",
     "end_time": "2023-04-15T12:47:59.362571Z"
    }
   }
  }
 ],
 "metadata": {
  "kernelspec": {
   "display_name": "Python 3",
   "language": "python",
   "name": "python3"
  },
  "language_info": {
   "codemirror_mode": {
    "name": "ipython",
    "version": 2
   },
   "file_extension": ".py",
   "mimetype": "text/x-python",
   "name": "python",
   "nbconvert_exporter": "python",
   "pygments_lexer": "ipython2",
   "version": "2.7.6"
  }
 },
 "nbformat": 4,
 "nbformat_minor": 0
}

{
 "cells": [
  {
   "cell_type": "code",
   "execution_count": 1,
   "id": "48f445f7",
   "metadata": {},
   "outputs": [],
   "source": [
    "# FashionMNIST: https://github.com/zalandoresearch/fashion-mnist\n",
    "import gzip\n",
    "import numpy as np\n",
    "\n",
    "def open_images(filename):\n",
    "    with gzip.open(filename, \"rb\") as file:\n",
    "        data = file.read()\n",
    "        return np.frombuffer(data, dtype=np.uint8, offset=16)\\\n",
    "            .reshape(-1, 28, 28)\\\n",
    "            .astype(np.float32)\n",
    "\n",
    "\n",
    "def open_labels(filename):\n",
    "    with gzip.open(filename, \"rb\") as file:\n",
    "        data = file.read()\n",
    "        return np.frombuffer(data, dtype=np.uint8, offset=8)\n",
    "    \n",
    "x_train = open_images(\"train-images-idx3-ubyte.gz\")\n",
    "x_test = open_images(\"t10k-images-idx3-ubyte.gz\")\n",
    "\n",
    "y_train = open_labels(\"train-labels-idx1-ubyte.gz\")\n",
    "y_test = open_labels(\"t10k-labels-idx1-ubyte.gz\")"
   ]
  },
  {
   "cell_type": "code",
   "execution_count": 2,
   "id": "12b93990",
   "metadata": {},
   "outputs": [
    {
     "data": {
      "image/png": "[encoded data removed]",
      "text/plain": [
       "<Figure size 640x480 with 1 Axes>"
      ]
     },
     "metadata": {},
     "output_type": "display_data"
    }
   ],
   "source": [
    "%matplotlib inline\n",
    "import matplotlib.pyplot as plt\n",
    "\n",
    "plt.imshow(x_train[0], cmap=\"gray_r\")\n",
    "plt.show()"
   ]
  },
  {
   "cell_type": "code",
   "execution_count": 3,
   "id": "d68f26ba",
   "metadata": {},
   "outputs": [],
   "source": [
    "# generate categorical from y_train model\n",
    "from tensorflow.keras.utils import to_categorical\n",
    "y_train = to_categorical(y_train)\n",
    "y_test = to_categorical(y_test)"
   ]
  },
  {
   "cell_type": "code",
   "execution_count": 4,
   "id": "22839cc0",
   "metadata": {},
   "outputs": [
    {
     "name": "stdout",
     "output_type": "stream",
     "text": [
      "[0. 0. 0. 0. 0. 0. 0. 0. 0. 1.]\n"
     ]
    }
   ],
   "source": [
    "print(y_train[0])"
   ]
  },
  {
   "cell_type": "code",
   "execution_count": 33,
   "id": "124cf4c9",
   "metadata": {},
   "outputs": [
    {
     "name": "stdout",
     "output_type": "stream",
     "text": [
      "Epoch 1/10\n",
      "60/60 [==============================] - 5s 78ms/step - loss: 14.9593 - accuracy: 0.7138\n",
      "Epoch 2/10\n",
      "60/60 [==============================] - 5s 83ms/step - loss: 1.0783 - accuracy: 0.8561\n",
      "Epoch 3/10\n",
      "60/60 [==============================] - 5s 80ms/step - loss: 0.5056 - accuracy: 0.8829\n",
      "Epoch 4/10\n",
      "60/60 [==============================] - 5s 78ms/step - loss: 0.3364 - accuracy: 0.9042\n",
      "Epoch 5/10\n",
      "60/60 [==============================] - 5s 79ms/step - loss: 0.2666 - accuracy: 0.9150\n",
      "Epoch 6/10\n",
      "60/60 [==============================] - 5s 79ms/step - loss: 0.2117 - accuracy: 0.9293\n",
      "Epoch 7/10\n",
      "60/60 [==============================] - 5s 76ms/step - loss: 0.1881 - accuracy: 0.9354\n",
      "Epoch 8/10\n",
      "60/60 [==============================] - 5s 77ms/step - loss: 0.1739 - accuracy: 0.9406\n",
      "Epoch 9/10\n",
      "60/60 [==============================] - 5s 81ms/step - loss: 0.1467 - accuracy: 0.9482\n",
      "Epoch 10/10\n",
      "60/60 [==============================] - 5s 79ms/step - loss: 0.1376 - accuracy: 0.9514\n"
     ]
    },
    {
     "data": {
      "text/plain": [
       "<keras.callbacks.History at 0x27e05fa5ac0>"
      ]
     },
     "execution_count": 33,
     "metadata": {},
     "output_type": "execute_result"
    }
   ],
   "source": [
    "from keras.models import Sequential\n",
    "from keras.layers import Dense, Conv2D, Flatten\n",
    "\n",
    "model = Sequential()\n",
    "\n",
    "model.add(Conv2D(30, kernel_size=(3,3), activation=\"relu\", input_shape=(28,28,1)))\n",
    "model.add(Flatten())\n",
    "model.add(Dense(10, activation=\"softmax\"))\n",
    "# use different optimizer like adam, rmsprops\n",
    "model.compile(optimizer=\"adam\", loss=\"categorical_crossentropy\", metrics=[\"accuracy\"])\n",
    "model.fit(x_train.reshape(-1, 28, 28, 1), y_train, epochs=10, batch_size=1000)"
   ]
  },
  {
   "cell_type": "code",
   "execution_count": 32,
   "id": "3e5c1456",
   "metadata": {},
   "outputs": [
    {
     "name": "stdout",
     "output_type": "stream",
     "text": [
      "Epoch 1/10\n",
      "60/60 [==============================] - 6s 87ms/step - loss: 1.7624 - accuracy: 0.5382\n",
      "Epoch 2/10\n",
      "60/60 [==============================] - 5s 87ms/step - loss: 0.9108 - accuracy: 0.8096\n",
      "Epoch 3/10\n",
      "60/60 [==============================] - 5s 91ms/step - loss: 0.5467 - accuracy: 0.8590\n",
      "Epoch 4/10\n",
      "60/60 [==============================] - 5s 91ms/step - loss: 0.4240 - accuracy: 0.8757\n",
      "Epoch 5/10\n",
      "60/60 [==============================] - 6s 92ms/step - loss: 0.3561 - accuracy: 0.8878\n",
      "Epoch 6/10\n",
      "60/60 [==============================] - 6s 92ms/step - loss: 0.3156 - accuracy: 0.8955\n",
      "Epoch 7/10\n",
      "60/60 [==============================] - 6s 94ms/step - loss: 0.2871 - accuracy: 0.9032\n",
      "Epoch 8/10\n",
      "60/60 [==============================] - 5s 90ms/step - loss: 0.2677 - accuracy: 0.9079\n",
      "Epoch 9/10\n",
      "60/60 [==============================] - 6s 98ms/step - loss: 0.2456 - accuracy: 0.9146\n",
      "Epoch 10/10\n",
      "60/60 [==============================] - 6s 95ms/step - loss: 0.2332 - accuracy: 0.9199\n"
     ]
    },
    {
     "data": {
      "text/plain": [
       "<keras.callbacks.History at 0x27e05ed86a0>"
      ]
     },
     "execution_count": 32,
     "metadata": {},
     "output_type": "execute_result"
    }
   ],
   "source": [
    "from keras.models import Sequential\n",
    "from keras.layers import Dense, Conv2D, Flatten\n",
    "\n",
    "model = Sequential()\n",
    "\n",
    "model.add(Conv2D(30, kernel_size=(5, 5), activation=\"relu\", input_shape=(28, 28, 1)))\n",
    "model.add(Flatten())\n",
    "model.add(Dense(50, activation=\"sigmoid\"))\n",
    "model.add(Dense(10, activation=\"softmax\"))\n",
    "model.compile(optimizer=\"rmsprop\", loss=\"categorical_crossentropy\", metrics=[\"accuracy\"])\n",
    "model.fit(x_train.reshape(-1, 28, 28, 1), y_train, epochs=10, batch_size=1000)"
   ]
  },
  {
   "cell_type": "code",
   "execution_count": 34,
   "id": "600109d1",
   "metadata": {},
   "outputs": [
    {
     "name": "stdout",
     "output_type": "stream",
     "text": [
      "Epoch 1/10\n",
      "60/60 [==============================] - 6s 100ms/step - loss: 1.2867 - accuracy: 0.6324\n",
      "Epoch 2/10\n",
      "60/60 [==============================] - 6s 100ms/step - loss: 0.8807 - accuracy: 0.7583\n",
      "Epoch 3/10\n",
      "60/60 [==============================] - 6s 97ms/step - loss: 0.7549 - accuracy: 0.7908\n",
      "Epoch 4/10\n",
      "60/60 [==============================] - 6s 103ms/step - loss: 0.6816 - accuracy: 0.8063\n",
      "Epoch 5/10\n",
      "60/60 [==============================] - 6s 107ms/step - loss: 0.6280 - accuracy: 0.8193\n",
      "Epoch 6/10\n",
      "60/60 [==============================] - 6s 97ms/step - loss: 0.5868 - accuracy: 0.8313\n",
      "Epoch 7/10\n",
      "60/60 [==============================] - 6s 101ms/step - loss: 0.5568 - accuracy: 0.8378\n",
      "Epoch 8/10\n",
      "60/60 [==============================] - 6s 102ms/step - loss: 0.5277 - accuracy: 0.8438\n",
      "Epoch 9/10\n",
      "60/60 [==============================] - 6s 102ms/step - loss: 0.5046 - accuracy: 0.8498\n",
      "Epoch 10/10\n",
      "60/60 [==============================] - 7s 117ms/step - loss: 0.4884 - accuracy: 0.8536\n"
     ]
    },
    {
     "data": {
      "text/plain": [
       "<keras.callbacks.History at 0x27e062e47f0>"
      ]
     },
     "execution_count": 34,
     "metadata": {},
     "output_type": "execute_result"
    }
   ],
   "source": [
    "from keras.models import Sequential\n",
    "from keras.layers import Dense, Conv2D, Flatten\n",
    "\n",
    "model = Sequential()\n",
    "\n",
    "model.add(Conv2D(30, kernel_size=(3, 3), activation=\"relu\", input_shape=(28, 28, 1)))\n",
    "model.add(Flatten())\n",
    "model.add(Dense(100, activation=\"sigmoid\"))\n",
    "model.add(Dense(10, activation=\"softmax\"))\n",
    "model.compile(optimizer=\"sgd\", loss=\"categorical_crossentropy\", metrics=[\"accuracy\"])\n",
    "model.fit(x_train.reshape(-1, 28, 28, 1), y_train, epochs=10, batch_size=1000)"
   ]
  },
  {
   "cell_type": "code",
   "execution_count": 6,
   "id": "67340001",
   "metadata": {},
   "outputs": [],
   "source": [
    "Conv2D?"
   ]
  },
  {
   "cell_type": "code",
   "execution_count": 42,
   "id": "8b0d1603",
   "metadata": {},
   "outputs": [
    {
     "name": "stdout",
     "output_type": "stream",
     "text": [
      "[[[[-0.05890555  0.03103518 -0.12903163 -0.11628349 -0.06489098\n",
      "    -0.09168585 -0.05812627 -0.05308218  0.0754264  -0.11676047\n",
      "    -0.08673235 -0.1323271  -0.04068283  0.09189129 -0.09624124\n",
      "     0.05562911 -0.0632987  -0.1763871  -0.04148884 -0.12233811\n",
      "     0.10610121  0.09436987 -0.04307845 -0.00023852  0.01879418\n",
      "     0.11660858 -0.03248509 -0.01180005  0.11891409 -0.02300857]]\n",
      "\n",
      "  [[ 0.02398582  0.11288927 -0.0376083  -0.03334801  0.04878327\n",
      "    -0.08027697 -0.0614361  -0.09075318  0.01222572 -0.0636387\n",
      "     0.13495202  0.06867715 -0.12791842 -0.04022878 -0.07544352\n",
      "     0.00357766  0.10232288  0.06777173  0.09930815  0.04034894\n",
      "     0.10628377 -0.10438461 -0.05273028  0.07549894  0.12393607\n",
      "     0.05028316  0.12046889 -0.02617742  0.11996868  0.11323541]]\n",
      "\n",
      "  [[ 0.04273577 -0.10190297  0.19586015 -0.11128807 -0.07240252\n",
      "    -0.00461031  0.03274919  0.06093162  0.09448447 -0.1342279\n",
      "     0.01456344  0.11509576 -0.04055874  0.06018851  0.09338664\n",
      "    -0.02778896 -0.11922553  0.13388845 -0.11380465  0.02293715\n",
      "    -0.17138517  0.10235033 -0.11476745 -0.04881755 -0.05763615\n",
      "    -0.08235046  0.0670507   0.0608943  -0.17858554  0.12459963]]]\n",
      "\n",
      "\n",
      " [[[ 0.10432579  0.08773777 -0.11695686  0.14276399  0.03904558\n",
      "    -0.02800562  0.07037517  0.08764125  0.03600336  0.08886518\n",
      "     0.08865427  0.0364779  -0.05916492  0.08423992 -0.05305\n",
      "    -0.10585136 -0.03801044 -0.15125605 -0.04577356 -0.02342006\n",
      "    -0.01969814 -0.0558443   0.02073807 -0.14477198 -0.12302747\n",
      "     0.00774179  0.08982817  0.08346207 -0.04614882 -0.13437639]]\n",
      "\n",
      "  [[ 0.06845769  0.05005739  0.07331042 -0.10998809 -0.03952556\n",
      "     0.07866264 -0.16306321 -0.13127348  0.07799076  0.12458061\n",
      "    -0.11651777 -0.14146216 -0.07328212  0.08809808 -0.06333972\n",
      "     0.0778345  -0.08301179 -0.06127851  0.06265486  0.00091655\n",
      "    -0.01420524  0.01112487  0.08412543 -0.1326598   0.06751684\n",
      "    -0.0643182  -0.02220709 -0.09384535  0.04573459 -0.10227129]]\n",
      "\n",
      "  [[-0.10744318 -0.07028002  0.09987158 -0.01792707 -0.07459883\n",
      "    -0.12825757 -0.0026422  -0.12588905  0.03797148 -0.09186631\n",
      "     0.05046524 -0.00332303 -0.01461955  0.04214272  0.1127894\n",
      "     0.11515667 -0.1443389   0.07337913  0.13966238  0.11892363\n",
      "    -0.11354201  0.00967168  0.09419613  0.00205971  0.05193904\n",
      "    -0.1360131  -0.03017113  0.10568167 -0.03839026  0.08954892]]]\n",
      "\n",
      "\n",
      " [[[ 0.07634267  0.09397743 -0.12133397 -0.07853948 -0.03958827\n",
      "    -0.09233805  0.12595217  0.0993576  -0.11084879  0.01810051\n",
      "     0.05475869 -0.13051274  0.12450463  0.10584093 -0.11496937\n",
      "     0.07311369 -0.07480212  0.04860711 -0.10142227  0.04792558\n",
      "    -0.01511216  0.00463422  0.03354701 -0.09509428 -0.11619221\n",
      "     0.00289583 -0.0795237   0.10035484  0.0179424  -0.05851444]]\n",
      "\n",
      "  [[-0.1242409  -0.02450771 -0.03521089 -0.12746474 -0.04437336\n",
      "    -0.09125909  0.083301    0.11993279 -0.12667811 -0.07666704\n",
      "     0.08353314  0.14151198  0.06385934 -0.01554046 -0.01341755\n",
      "    -0.09379887  0.07806282 -0.04985956  0.10264376 -0.01443631\n",
      "     0.00764335  0.03374474 -0.10468351 -0.00767028  0.1354833\n",
      "    -0.05538321  0.07505257 -0.01463813  0.10494675  0.0973966 ]]\n",
      "\n",
      "  [[-0.13722746  0.05815607  0.06448354  0.12800662 -0.13285199\n",
      "     0.10963213 -0.0214446   0.03146038 -0.10736832 -0.14648372\n",
      "    -0.02419879 -0.08893555  0.12008648 -0.03426412 -0.06880719\n",
      "     0.10076983  0.04535018  0.10882808 -0.10185732  0.01414535\n",
      "     0.13575539 -0.0729887   0.01937441 -0.13739665  0.05540411\n",
      "    -0.07653233 -0.00873198  0.03283745 -0.1446021   0.0857481 ]]]]\n"
     ]
    },
    {
     "data": {
      "image/png": "[encoded data removed]",
      "text/plain": [
       "<Figure size 640x480 with 1 Axes>"
      ]
     },
     "metadata": {},
     "output_type": "display_data"
    }
   ],
   "source": [
    "# Plot generated filters\n",
    "\n",
    "import keras.backend as K\n",
    "data = K.eval(model.layers[0].weights[0])\n",
    "print(data)\n",
    "\n",
    "%matplotlib inline\n",
    "import matplotlib.pyplot as plt\n",
    "\n",
    "# Plot layer 0\n",
    "plt.imshow(data[:, :, :, 0])\n",
    "plt.show()"
   ]
  },
  {
   "cell_type": "code",
   "execution_count": null,
   "id": "7aa017a9",
   "metadata": {},
   "outputs": [],
   "source": []
  },
  {
   "cell_type": "code",
   "execution_count": 11,
   "id": "bc1bfa57",
   "metadata": {},
   "outputs": [
    {
     "name": "stdout",
     "output_type": "stream",
     "text": [
      "1875/1875 [==============================] - 3s 1ms/step - loss: 0.1587 - accuracy: 0.9427\n"
     ]
    },
    {
     "data": {
      "text/plain": [
       "[0.15870597958564758, 0.942716658115387]"
      ]
     },
     "execution_count": 11,
     "metadata": {},
     "output_type": "execute_result"
    }
   ],
   "source": [
    "model.evaluate(x_train.reshape(-1, 28, 28, 1), y_train) # Gives accuracy from train data"
   ]
  },
  {
   "cell_type": "code",
   "execution_count": 12,
   "id": "8ce6475e",
   "metadata": {},
   "outputs": [
    {
     "name": "stdout",
     "output_type": "stream",
     "text": [
      "313/313 [==============================] - 1s 1ms/step - loss: 0.5592 - accuracy: 0.8613\n"
     ]
    },
    {
     "data": {
      "text/plain": [
       "[0.5592095255851746, 0.861299991607666]"
      ]
     },
     "execution_count": 12,
     "metadata": {},
     "output_type": "execute_result"
    }
   ],
   "source": [
    "model.evaluate(x_test.reshape(-1, 28, 28, 1), y_test) # Gives accuracy from test data"
   ]
  },
  {
   "cell_type": "code",
   "execution_count": 14,
   "id": "e50761c9",
   "metadata": {},
   "outputs": [
    {
     "data": {
      "text/plain": [
       "(1, 28, 28, 1)"
      ]
     },
     "execution_count": 14,
     "metadata": {},
     "output_type": "execute_result"
    }
   ],
   "source": [
    "p = x_test[0].reshape(1, 28, 28, 1)\n",
    "p.shape"
   ]
  },
  {
   "cell_type": "code",
   "execution_count": 15,
   "id": "f3046873",
   "metadata": {},
   "outputs": [
    {
     "name": "stdout",
     "output_type": "stream",
     "text": [
      "1/1 [==============================] - 0s 67ms/step\n"
     ]
    },
    {
     "data": {
      "text/plain": [
       "9"
      ]
     },
     "execution_count": 15,
     "metadata": {},
     "output_type": "execute_result"
    }
   ],
   "source": [
    "# Gives the highest index of array values\n",
    "np.argmax(model.predict(p))"
   ]
  },
  {
   "cell_type": "code",
   "execution_count": 43,
   "id": "656866fa",
   "metadata": {},
   "outputs": [
    {
     "name": "stdout",
     "output_type": "stream",
     "text": [
      "1/1 [==============================] - 0s 48ms/step\n"
     ]
    },
    {
     "data": {
      "text/plain": [
       "array([[0.00461422, 0.00453364, 0.01195427, 0.01089976, 0.00681681,\n",
       "        0.06110476, 0.00958969, 0.12370613, 0.01038157, 0.75639915]],\n",
       "      dtype=float32)"
      ]
     },
     "execution_count": 43,
     "metadata": {},
     "output_type": "execute_result"
    }
   ],
   "source": [
    "model.predict(p)"
   ]
  },
  {
   "cell_type": "code",
   "execution_count": 16,
   "id": "701cbddc",
   "metadata": {},
   "outputs": [
    {
     "name": "stdout",
     "output_type": "stream",
     "text": [
      "313/313 [==============================] - 0s 1ms/step\n"
     ]
    }
   ],
   "source": [
    "pred = model.predict(x_test.reshape(-1, 28, 28, 1))"
   ]
  },
  {
   "cell_type": "code",
   "execution_count": 18,
   "id": "5603b6db",
   "metadata": {},
   "outputs": [
    {
     "data": {
      "text/html": [
       "<div>\n",
       "<style scoped>\n",
       "    .dataframe tbody tr th:only-of-type {\n",
       "        vertical-align: middle;\n",
       "    }\n",
       "\n",
       "    .dataframe tbody tr th {\n",
       "        vertical-align: top;\n",
       "    }\n",
       "\n",
       "    .dataframe thead th {\n",
       "        text-align: right;\n",
       "    }\n",
       "</style>\n",
       "<table border=\"1\" class=\"dataframe\">\n",
       "  <thead>\n",
       "    <tr style=\"text-align: right;\">\n",
       "      <th>pred</th>\n",
       "      <th>0</th>\n",
       "      <th>1</th>\n",
       "      <th>2</th>\n",
       "      <th>3</th>\n",
       "      <th>4</th>\n",
       "      <th>5</th>\n",
       "      <th>6</th>\n",
       "      <th>7</th>\n",
       "      <th>8</th>\n",
       "      <th>9</th>\n",
       "    </tr>\n",
       "    <tr>\n",
       "      <th>actual</th>\n",
       "      <th></th>\n",
       "      <th></th>\n",
       "      <th></th>\n",
       "      <th></th>\n",
       "      <th></th>\n",
       "      <th></th>\n",
       "      <th></th>\n",
       "      <th></th>\n",
       "      <th></th>\n",
       "      <th></th>\n",
       "    </tr>\n",
       "  </thead>\n",
       "  <tbody>\n",
       "    <tr>\n",
       "      <th>0</th>\n",
       "      <td>800</td>\n",
       "      <td>7</td>\n",
       "      <td>26</td>\n",
       "      <td>29</td>\n",
       "      <td>3</td>\n",
       "      <td>2</td>\n",
       "      <td>122</td>\n",
       "      <td>0</td>\n",
       "      <td>11</td>\n",
       "      <td>0</td>\n",
       "    </tr>\n",
       "    <tr>\n",
       "      <th>1</th>\n",
       "      <td>3</td>\n",
       "      <td>968</td>\n",
       "      <td>5</td>\n",
       "      <td>14</td>\n",
       "      <td>5</td>\n",
       "      <td>0</td>\n",
       "      <td>4</td>\n",
       "      <td>0</td>\n",
       "      <td>1</td>\n",
       "      <td>0</td>\n",
       "    </tr>\n",
       "    <tr>\n",
       "      <th>2</th>\n",
       "      <td>27</td>\n",
       "      <td>1</td>\n",
       "      <td>820</td>\n",
       "      <td>7</td>\n",
       "      <td>74</td>\n",
       "      <td>0</td>\n",
       "      <td>64</td>\n",
       "      <td>0</td>\n",
       "      <td>7</td>\n",
       "      <td>0</td>\n",
       "    </tr>\n",
       "    <tr>\n",
       "      <th>3</th>\n",
       "      <td>31</td>\n",
       "      <td>16</td>\n",
       "      <td>19</td>\n",
       "      <td>849</td>\n",
       "      <td>33</td>\n",
       "      <td>1</td>\n",
       "      <td>41</td>\n",
       "      <td>0</td>\n",
       "      <td>10</td>\n",
       "      <td>0</td>\n",
       "    </tr>\n",
       "    <tr>\n",
       "      <th>4</th>\n",
       "      <td>3</td>\n",
       "      <td>1</td>\n",
       "      <td>128</td>\n",
       "      <td>34</td>\n",
       "      <td>731</td>\n",
       "      <td>0</td>\n",
       "      <td>100</td>\n",
       "      <td>0</td>\n",
       "      <td>3</td>\n",
       "      <td>0</td>\n",
       "    </tr>\n",
       "    <tr>\n",
       "      <th>5</th>\n",
       "      <td>0</td>\n",
       "      <td>0</td>\n",
       "      <td>0</td>\n",
       "      <td>0</td>\n",
       "      <td>0</td>\n",
       "      <td>954</td>\n",
       "      <td>0</td>\n",
       "      <td>27</td>\n",
       "      <td>4</td>\n",
       "      <td>15</td>\n",
       "    </tr>\n",
       "    <tr>\n",
       "      <th>6</th>\n",
       "      <td>132</td>\n",
       "      <td>0</td>\n",
       "      <td>101</td>\n",
       "      <td>38</td>\n",
       "      <td>75</td>\n",
       "      <td>0</td>\n",
       "      <td>637</td>\n",
       "      <td>0</td>\n",
       "      <td>17</td>\n",
       "      <td>0</td>\n",
       "    </tr>\n",
       "    <tr>\n",
       "      <th>7</th>\n",
       "      <td>0</td>\n",
       "      <td>0</td>\n",
       "      <td>0</td>\n",
       "      <td>0</td>\n",
       "      <td>0</td>\n",
       "      <td>22</td>\n",
       "      <td>0</td>\n",
       "      <td>946</td>\n",
       "      <td>1</td>\n",
       "      <td>31</td>\n",
       "    </tr>\n",
       "    <tr>\n",
       "      <th>8</th>\n",
       "      <td>6</td>\n",
       "      <td>1</td>\n",
       "      <td>3</td>\n",
       "      <td>6</td>\n",
       "      <td>5</td>\n",
       "      <td>2</td>\n",
       "      <td>12</td>\n",
       "      <td>8</td>\n",
       "      <td>956</td>\n",
       "      <td>1</td>\n",
       "    </tr>\n",
       "    <tr>\n",
       "      <th>9</th>\n",
       "      <td>1</td>\n",
       "      <td>0</td>\n",
       "      <td>0</td>\n",
       "      <td>0</td>\n",
       "      <td>0</td>\n",
       "      <td>10</td>\n",
       "      <td>1</td>\n",
       "      <td>36</td>\n",
       "      <td>0</td>\n",
       "      <td>952</td>\n",
       "    </tr>\n",
       "  </tbody>\n",
       "</table>\n",
       "</div>"
      ],
      "text/plain": [
       "pred      0    1    2    3    4    5    6    7    8    9\n",
       "actual                                                  \n",
       "0       800    7   26   29    3    2  122    0   11    0\n",
       "1         3  968    5   14    5    0    4    0    1    0\n",
       "2        27    1  820    7   74    0   64    0    7    0\n",
       "3        31   16   19  849   33    1   41    0   10    0\n",
       "4         3    1  128   34  731    0  100    0    3    0\n",
       "5         0    0    0    0    0  954    0   27    4   15\n",
       "6       132    0  101   38   75    0  637    0   17    0\n",
       "7         0    0    0    0    0   22    0  946    1   31\n",
       "8         6    1    3    6    5    2   12    8  956    1\n",
       "9         1    0    0    0    0   10    1   36    0  952"
      ]
     },
     "execution_count": 18,
     "metadata": {},
     "output_type": "execute_result"
    }
   ],
   "source": [
    "# Confusion Matrix on test data\n",
    "import pandas as pd\n",
    "\n",
    "ytrue = pd.Series(np.argmax(y_test, axis = 1), name = 'actual')\n",
    "ypred = pd.Series(np.argmax(pred, axis = 1), name = 'pred')\n",
    "\n",
    "pd.crosstab(ytrue, ypred)"
   ]
  }
 ],
 "metadata": {
  "kernelspec": {
   "display_name": "Python 3 (ipykernel)",
   "language": "python",
   "name": "python3"
  },
  "language_info": {
   "codemirror_mode": {
    "name": "ipython",
    "version": 3
   },
   "file_extension": ".py",
   "mimetype": "text/x-python",
   "name": "python",
   "nbconvert_exporter": "python",
   "pygments_lexer": "ipython3",
   "version": "3.9.13"
  }
 },
 "nbformat": 4,
 "nbformat_minor": 5
}
